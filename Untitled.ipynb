{
 "cells": [
  {
   "cell_type": "code",
   "execution_count": 2,
   "id": "3e4fd936",
   "metadata": {},
   "outputs": [
    {
     "ename": "SyntaxError",
     "evalue": "(unicode error) 'unicodeescape' codec can't decode bytes in position 3-4: truncated \\UXXXXXXXX escape (4080009607.py, line 6)",
     "output_type": "error",
     "traceback": [
      "\u001b[1;36m  Cell \u001b[1;32mIn[2], line 6\u001b[1;36m\u001b[0m\n\u001b[1;33m    df=pd.read_csv('\"C:\\Users\\admin\\Desktop\\python_labexp\\Read-from-CSV\\data.csv\"')\u001b[0m\n\u001b[1;37m                                                                                  ^\u001b[0m\n\u001b[1;31mSyntaxError\u001b[0m\u001b[1;31m:\u001b[0m (unicode error) 'unicodeescape' codec can't decode bytes in position 3-4: truncated \\UXXXXXXXX escape\n"
     ]
    }
   ],
   "source": [
    "# program to read data from csv file\n",
    "# developed by: HEMA LOKITHA P\n",
    "# reg no: 23007550\n",
    "\n",
    "import pandas as pd\n",
    "df=pd.read_csv('\"C:\\Users\\admin\\Desktop\\python_labexp\\Read-from-CSV\\data.csv\"')\n",
    "print(head(10))\n",
    "print(tail(5))\n",
    "print(\"Number of Rows:\",len(df.axes[0]))\n",
    "\n",
    "print(\"Number Of Coloumns:\",len(df.axes[1]))\n"
   ]
  },
  {
   "cell_type": "code",
   "execution_count": 1,
   "id": "37bd3db2",
   "metadata": {},
   "outputs": [
    {
     "ename": "SyntaxError",
     "evalue": "incomplete input (3058533359.py, line 1)",
     "output_type": "error",
     "traceback": [
      "\u001b[1;36m  Cell \u001b[1;32mIn[1], line 1\u001b[1;36m\u001b[0m\n\u001b[1;33m    def circulate():\u001b[0m\n\u001b[1;37m                    ^\u001b[0m\n\u001b[1;31mSyntaxError\u001b[0m\u001b[1;31m:\u001b[0m incomplete input\n"
     ]
    }
   ],
   "source": [
    "def circulate():d"
   ]
  },
  {
   "cell_type": "code",
   "execution_count": 3,
   "id": "7a5efb3f",
   "metadata": {},
   "outputs": [],
   "source": [
    "def gcd():\n",
    "    n1,n2=int(input()),int(input())\n",
    "    if n1>n2:\n",
    "        smaller=n2\n",
    "    else:\n",
    "        smaller=n1\n",
    "    for i in range(1,smaller+1):\n",
    "        if(n1%i==0)and(n2%i==0):\n",
    "            hcf=i\n",
    "    print(\"GCD OF NUM\",hcf)"
   ]
  },
  {
   "cell_type": "code",
   "execution_count": 6,
   "id": "6c6057f3",
   "metadata": {},
   "outputs": [
    {
     "name": "stdout",
     "output_type": "stream",
     "text": [
      "2\n",
      "3\n",
      "GCD OF NUM 1\n"
     ]
    }
   ],
   "source": [
    "def gcd():\n",
    "    n1,n2=int(input()),int(input())\n",
    "    if n1>n2:\n",
    "        smaller=n2\n",
    "    else:\n",
    "        smaller=n1\n",
    "    for i in range(1,smaller+1):\n",
    "        if(n1%i==0)and(n2%i==0):\n",
    "            hcf=i\n",
    "    print(\"GCD OF NUM\",hcf)\n",
    "gcd()"
   ]
  },
  {
   "cell_type": "code",
   "execution_count": 9,
   "id": "42957fb5",
   "metadata": {},
   "outputs": [
    {
     "name": "stdout",
     "output_type": "stream",
     "text": [
      "2\n",
      "square root 1.414213562373095\n"
     ]
    }
   ],
   "source": [
    "def method(a,b=100):\n",
    "    c=float(a)\n",
    "    for i in range(b):\n",
    "        a=0.5*(a+c/a)\n",
    "    return a\n",
    "c=int(input())\n",
    "print(\"square root\",method(c))"
   ]
  },
  {
   "cell_type": "code",
   "execution_count": 2,
   "id": "cb6ecca6",
   "metadata": {},
   "outputs": [
    {
     "ename": "FileNotFoundError",
     "evalue": "[Errno 2] No such file or directory: 'story.txt'",
     "output_type": "error",
     "traceback": [
      "\u001b[1;31m---------------------------------------------------------------------------\u001b[0m",
      "\u001b[1;31mFileNotFoundError\u001b[0m                         Traceback (most recent call last)",
      "Cell \u001b[1;32mIn[2], line 1\u001b[0m\n\u001b[1;32m----> 1\u001b[0m \u001b[38;5;28;01mwith\u001b[39;00m \u001b[38;5;28mopen\u001b[39m (\u001b[38;5;124m'\u001b[39m\u001b[38;5;124mstory.txt\u001b[39m\u001b[38;5;124m'\u001b[39m,\u001b[38;5;124m'\u001b[39m\u001b[38;5;124mr\u001b[39m\u001b[38;5;124m'\u001b[39m) \u001b[38;5;28;01mas\u001b[39;00m f1:\n\u001b[0;32m      2\u001b[0m     \u001b[38;5;28;01mwith\u001b[39;00m \u001b[38;5;28mopen\u001b[39m(\u001b[38;5;124m'\u001b[39m\u001b[38;5;124msecond.txt\u001b[39m\u001b[38;5;124m'\u001b[39m,\u001b[38;5;124m'\u001b[39m\u001b[38;5;124ma\u001b[39m\u001b[38;5;124m'\u001b[39m) \u001b[38;5;28;01mas\u001b[39;00m f2:\n\u001b[0;32m      3\u001b[0m         data1\u001b[38;5;241m=\u001b[39mf1\u001b[38;5;241m.\u001b[39mread()\n",
      "File \u001b[1;32mC:\\ProgramData\\anaconda3\\Lib\\site-packages\\IPython\\core\\interactiveshell.py:284\u001b[0m, in \u001b[0;36m_modified_open\u001b[1;34m(file, *args, **kwargs)\u001b[0m\n\u001b[0;32m    277\u001b[0m \u001b[38;5;28;01mif\u001b[39;00m file \u001b[38;5;129;01min\u001b[39;00m {\u001b[38;5;241m0\u001b[39m, \u001b[38;5;241m1\u001b[39m, \u001b[38;5;241m2\u001b[39m}:\n\u001b[0;32m    278\u001b[0m     \u001b[38;5;28;01mraise\u001b[39;00m \u001b[38;5;167;01mValueError\u001b[39;00m(\n\u001b[0;32m    279\u001b[0m         \u001b[38;5;124mf\u001b[39m\u001b[38;5;124m\"\u001b[39m\u001b[38;5;124mIPython won\u001b[39m\u001b[38;5;124m'\u001b[39m\u001b[38;5;124mt let you open fd=\u001b[39m\u001b[38;5;132;01m{\u001b[39;00mfile\u001b[38;5;132;01m}\u001b[39;00m\u001b[38;5;124m by default \u001b[39m\u001b[38;5;124m\"\u001b[39m\n\u001b[0;32m    280\u001b[0m         \u001b[38;5;124m\"\u001b[39m\u001b[38;5;124mas it is likely to crash IPython. If you know what you are doing, \u001b[39m\u001b[38;5;124m\"\u001b[39m\n\u001b[0;32m    281\u001b[0m         \u001b[38;5;124m\"\u001b[39m\u001b[38;5;124myou can use builtins\u001b[39m\u001b[38;5;124m'\u001b[39m\u001b[38;5;124m open.\u001b[39m\u001b[38;5;124m\"\u001b[39m\n\u001b[0;32m    282\u001b[0m     )\n\u001b[1;32m--> 284\u001b[0m \u001b[38;5;28;01mreturn\u001b[39;00m io_open(file, \u001b[38;5;241m*\u001b[39margs, \u001b[38;5;241m*\u001b[39m\u001b[38;5;241m*\u001b[39mkwargs)\n",
      "\u001b[1;31mFileNotFoundError\u001b[0m: [Errno 2] No such file or directory: 'story.txt'"
     ]
    }
   ],
   "source": [
    "with open ('story.txt','r') as f1:\n",
    "    with open('second.txt','a') as f2:\n",
    "        data1=f1.read()\n",
    "        f2.write(data1)\n",
    "        "
   ]
  },
  {
   "cell_type": "code",
   "execution_count": null,
   "id": "d02c245c",
   "metadata": {},
   "outputs": [],
   "source": []
  },
  {
   "cell_type": "code",
   "execution_count": null,
   "id": "71f30aa0",
   "metadata": {},
   "outputs": [],
   "source": []
  },
  {
   "cell_type": "code",
   "execution_count": null,
   "id": "6cb6856e",
   "metadata": {},
   "outputs": [],
   "source": []
  },
  {
   "cell_type": "code",
   "execution_count": null,
   "id": "f5965eb3",
   "metadata": {},
   "outputs": [],
   "source": []
  }
 ],
 "metadata": {
  "kernelspec": {
   "display_name": "Python 3 (ipykernel)",
   "language": "python",
   "name": "python3"
  },
  "language_info": {
   "codemirror_mode": {
    "name": "ipython",
    "version": 3
   },
   "file_extension": ".py",
   "mimetype": "text/x-python",
   "name": "python",
   "nbconvert_exporter": "python",
   "pygments_lexer": "ipython3",
   "version": "3.11.3"
  }
 },
 "nbformat": 4,
 "nbformat_minor": 5
}
